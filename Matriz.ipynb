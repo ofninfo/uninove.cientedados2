{
  "nbformat": 4,
  "nbformat_minor": 0,
  "metadata": {
    "colab": {
      "provenance": [],
      "authorship_tag": "ABX9TyMkVj7TZlSZgP9P5NK8Nyac",
      "include_colab_link": true
    },
    "kernelspec": {
      "name": "python3",
      "display_name": "Python 3"
    },
    "language_info": {
      "name": "python"
    }
  },
  "cells": [
    {
      "cell_type": "markdown",
      "metadata": {
        "id": "view-in-github",
        "colab_type": "text"
      },
      "source": [
        "<a href=\"https://colab.research.google.com/github/ofninfo/uninove.cientedados2/blob/main/Matriz.ipynb\" target=\"_parent\"><img src=\"https://colab.research.google.com/assets/colab-badge.svg\" alt=\"Open In Colab\"/></a>"
      ]
    },
    {
      "cell_type": "code",
      "execution_count": null,
      "metadata": {
        "id": "1P0gBI5xWpC_"
      },
      "outputs": [],
      "source": [
        "import numpy as mat\n",
        "m = mat.zeros((3,2), dtype=mat.int64)\n",
        "def entrada():\n",
        "  m[0][0] = input(\"Entre com os dados da linha 1 coluna 1: \")\n",
        "  m[0][1] = input(\"Entre com os dados da linha 1 coluna 2: \")\n",
        "  m[1][0] = input(\"Entre com os dados da linha 2 coluna 1: \")\n",
        "  m[1][1] = input(\"Entre com os dados da linha 2 coluna 2: \")\n",
        "  m[2][0] = input(\"Entre com os dados da linha 3 coluna 1: \")\n",
        "  m[2][1] = input(\"Entre com os dados da linha 3 coluna 2: \")\n",
        "def mostra():\n",
        "  print(m)\n",
        "entrada()\n",
        "mostra()"
      ]
    },
    {
      "cell_type": "code",
      "source": [
        "import numpy as mat\n",
        "\n",
        "m = mat.zeros((3,2))\n",
        "\n",
        "m[0][0] = input(\"Entre com a altura do jogador 1: \")\n",
        "m[0][1] = input(\"Entre com o peso do jogador 1: \")\n",
        "m[1][0] = input(\"Entre com a altura do jogador 2: \")\n",
        "m[1][1] = input(\"Entre com o peso do jogador 2: \")\n",
        "m[2][0] = input(\"Entre com a altura do jogador 3: \")\n",
        "m[2][1] = input(\"Entre com o peso do jogador 3: \")\n",
        "\n",
        "print(m)"
      ],
      "metadata": {
        "id": "li_vbUZGW8vd"
      },
      "execution_count": null,
      "outputs": []
    },
    {
      "cell_type": "code",
      "source": [
        "import numpy as mat\n",
        "\n",
        "m = mat.zeros((3,2))\n",
        "\n",
        "for i in range(3):\n",
        "  m[i][0] = input(\"Entre com a altura do jogador \" + str(i+1) + \" : \")\n",
        "  m[i][1] = input(\"Entre com o peso do jogador \" + str(i+1) + \" : \")\n",
        "\n",
        "print(m)\n",
        "\n",
        "import numpy as mat\n",
        "\n",
        "m = mat.zeros((3,2))\n",
        "\n",
        "for i in range(3):\n",
        "  for j in range(2):\n",
        "    m[i][j] = input(\"Entre com a informacao da linha \" + str(i) + \" coluna \" + str(j) + \": \")\n",
        "    \n",
        "print(m)"
      ],
      "metadata": {
        "id": "fP238zj-XAVJ"
      },
      "execution_count": null,
      "outputs": []
    },
    {
      "cell_type": "code",
      "source": [
        "import numpy as mat\n",
        "\n",
        "salario = mat.zeros((5,3),mat.float64)\n",
        "\n",
        "for i in range(5):\n",
        "  salario[i][0] = float(input(\"Entre com o primeiro salário do funcionário \" + str(i+1) + \": \" ))\n",
        "  salario[i][1] = float(input(\"Entre com o segundo salário do funcionário \" + str(i+1) + \": \" ))\n",
        "  salario[i][2] = salario[i][0] + salario[i][1]\n",
        "\n",
        "print(salario)"
      ],
      "metadata": {
        "id": "ch_yDx5sXDNc"
      },
      "execution_count": null,
      "outputs": []
    },
    {
      "cell_type": "code",
      "source": [
        "import numpy as mat\n",
        "\n",
        "def cabecalho():\n",
        "      print (\"********************************************\")\n",
        "      print (\"*        EXERCÍCIO 1: TABUADA DE 5         *\")\n",
        "      print (\"********************************************\\n\")\n",
        "\n",
        "cabecalho()\n",
        "\n",
        "m = mat.zeros((11,3), dtype=mat.int64)\n",
        "\n",
        "for i in range(11):\n",
        "  m[i][0] = i\n",
        "  m[i][1] = 5\n",
        "  m[i][2] = (i * 5)\n",
        "\n",
        "\"\"\"print(m)\"\"\"\n",
        "\n",
        "for i in range(11):\n",
        "   print(str(m[i,0]) +\"\\t x \" + str(m[i,1]) +\"\\t = \" + str(m[i,2]))\n",
        "   "
      ],
      "metadata": {
        "colab": {
          "base_uri": "https://localhost:8080/"
        },
        "id": "Rn3GHqX7XlEE",
        "outputId": "0c6b048e-f660-4bac-c583-6c096cafd25e"
      },
      "execution_count": 7,
      "outputs": [
        {
          "output_type": "stream",
          "name": "stdout",
          "text": [
            "********************************************\n",
            "*        EXERCÍCIO 1: TABUADA DE 5         *\n",
            "********************************************\n",
            "\n",
            "0\t x 5\t = 0\n",
            "1\t x 5\t = 5\n",
            "2\t x 5\t = 10\n",
            "3\t x 5\t = 15\n",
            "4\t x 5\t = 20\n",
            "5\t x 5\t = 25\n",
            "6\t x 5\t = 30\n",
            "7\t x 5\t = 35\n",
            "8\t x 5\t = 40\n",
            "9\t x 5\t = 45\n",
            "10\t x 5\t = 50\n"
          ]
        }
      ]
    },
    {
      "cell_type": "code",
      "source": [
        "import numpy as mat\n",
        "\n",
        "def cabecalho():\n",
        "      print (\"********************************************\")\n",
        "      print (\"*        EXERCÍCIO 2: TABUADA DE N         *\")\n",
        "      print (\"********************************************\\n\")\n",
        "\n",
        "cabecalho()\n",
        "\n",
        "m = mat.zeros((11,3), dtype=mat.int64)\n",
        "n1 = int(input(\"Informe o número da tabuada: \"))\n",
        "\n",
        "for i in range(11):\n",
        "  m[i][0] = i\n",
        "  m[i][1] = n1\n",
        "  m[i][2] = (i * n1)\n",
        "\n",
        "\"\"\"print(m)\"\"\"\n",
        "\n",
        "print(\"\")\n",
        "\n",
        "for i in range(11):\n",
        "   print(str(m[i,0]) +\"\\t x \" + str(m[i,1]) +\"\\t = \" + str(m[i,2]))\n",
        "   "
      ],
      "metadata": {
        "colab": {
          "base_uri": "https://localhost:8080/"
        },
        "id": "4zohc5zOcasu",
        "outputId": "5db76f1d-01e4-469c-d129-5ba7145b6b56"
      },
      "execution_count": 12,
      "outputs": [
        {
          "output_type": "stream",
          "name": "stdout",
          "text": [
            "********************************************\n",
            "*        EXERCÍCIO 2: TABUADA DE N         *\n",
            "********************************************\n",
            "\n",
            "Informe o número da tabuada: 5\n",
            "\n",
            "0\t x 5\t = 0\n",
            "1\t x 5\t = 5\n",
            "2\t x 5\t = 10\n",
            "3\t x 5\t = 15\n",
            "4\t x 5\t = 20\n",
            "5\t x 5\t = 25\n",
            "6\t x 5\t = 30\n",
            "7\t x 5\t = 35\n",
            "8\t x 5\t = 40\n",
            "9\t x 5\t = 45\n",
            "10\t x 5\t = 50\n"
          ]
        }
      ]
    },
    {
      "cell_type": "code",
      "source": [
        "import numpy as mat\n",
        "\n",
        "def cabecalho():\n",
        "      print (\"********************************************\")\n",
        "      print (\"*     EXERCÍCIO 3: MATRIZ A E MATRIZ B     *\")\n",
        "      print (\"********************************************\\n\")\n",
        "\n",
        "cabecalho()\n",
        "\n",
        "mA = mat.zeros((3,2), dtype=mat.int64)\n",
        "mB = mat.zeros((3,2), dtype=mat.int64)\n",
        "\n",
        "for i in range(3):\n",
        "  for j in range(2):\n",
        "    \"\"\"mA[i][j] = input(\"Entre com a número da linha \" + str(i) + \" coluna \" + str(j) + \": \")\"\"\"\n",
        "    mA[i][j] = input(\"Entre com a número (\" + str((i + 1)) +\":\"+ str(( j + 1)) + \"): \")\n",
        "    \n",
        "\n",
        "n1 = int(input(\"\\nInforme o número multiplicador: \"))\n",
        "\n",
        "print(\"\\nMatriz A:\\n\",mA)\n",
        "\n",
        "for i in range(3):\n",
        "  for j in range(2):\n",
        "    mB[i][j] = mA[i][j] * n1\n",
        "\n",
        "print(\"\\nMatriz B:\\n\",mB)\n"
      ],
      "metadata": {
        "colab": {
          "base_uri": "https://localhost:8080/"
        },
        "id": "xhUua2d-eSp3",
        "outputId": "1343ab46-d638-4746-9762-36b3e0918a43"
      },
      "execution_count": 27,
      "outputs": [
        {
          "output_type": "stream",
          "name": "stdout",
          "text": [
            "********************************************\n",
            "*     EXERCÍCIO 3: MATRIZ A E MATRIZ B     *\n",
            "********************************************\n",
            "\n",
            "Entre com a número (1:1): 1\n",
            "Entre com a número (1:2): 2\n",
            "Entre com a número (2:1): 3\n",
            "Entre com a número (2:2): 4\n",
            "Entre com a número (3:1): 5\n",
            "Entre com a número (3:2): 6\n",
            "\n",
            "Informe o número multiplicador: 5\n",
            "\n",
            "Matriz A:\n",
            " [[1 2]\n",
            " [3 4]\n",
            " [5 6]]\n",
            "\n",
            "Matriz B:\n",
            " [[ 5 10]\n",
            " [15 20]\n",
            " [25 30]]\n"
          ]
        }
      ]
    },
    {
      "cell_type": "code",
      "source": [
        "import numpy as mat\n",
        "\n",
        "def cabecalho():\n",
        "      print (\"********************************************\")\n",
        "      print (\"*     EXERCÍCIO 4: MATRIZ A E MATRIZ B     *\")\n",
        "      print (\"********************************************\\n\")\n",
        "\n",
        "cabecalho()\n",
        "\n",
        "mA = mat.zeros((3,2), dtype=mat.int64)\n",
        "mB = mat.zeros((2,3), dtype=mat.int64)\n",
        "\n",
        "for i in range(3):\n",
        "  for j in range(2):\n",
        "    \"\"\"mA[i][j] = input(\"Entre com a número da linha \" + str(i) + \" coluna \" + str(j) + \": \")\"\"\"\n",
        "    mA[i][j] = input(\"Entre com a número (\" + str((i + 1)) +\":\"+ str(( j + 1)) + \"): \")\n",
        "    \n",
        "\n",
        "n1 = int(input(\"\\nInforme o número multiplicador: \"))\n",
        "\n",
        "print(\"\\nMatriz A:\\n\",mA)\n",
        "\n",
        "for i in range(2):\n",
        "  for j in range(3):\n",
        "    mB[i][j] = mA[j][i] * n1\n",
        "\n",
        "print(\"\\nMatriz B:\\n\",mB)\n"
      ],
      "metadata": {
        "colab": {
          "base_uri": "https://localhost:8080/"
        },
        "id": "0SIOq-L4n0YY",
        "outputId": "9361e220-a00d-4e5c-bbf9-c83a1827b0d2"
      },
      "execution_count": 30,
      "outputs": [
        {
          "output_type": "stream",
          "name": "stdout",
          "text": [
            "********************************************\n",
            "*     EXERCÍCIO 3: MATRIZ A E MATRIZ B     *\n",
            "********************************************\n",
            "\n",
            "Entre com a número (1:1): 1\n",
            "Entre com a número (1:2): 2\n",
            "Entre com a número (2:1): 3\n",
            "Entre com a número (2:2): 4\n",
            "Entre com a número (3:1): 5\n",
            "Entre com a número (3:2): 6\n",
            "\n",
            "Informe o número multiplicador: 10\n",
            "\n",
            "Matriz A:\n",
            " [[1 2]\n",
            " [3 4]\n",
            " [5 6]]\n",
            "\n",
            "Matriz B:\n",
            " [[10 30 50]\n",
            " [20 40 60]]\n"
          ]
        }
      ]
    }
  ]
}