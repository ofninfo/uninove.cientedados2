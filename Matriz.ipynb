{
  "nbformat": 4,
  "nbformat_minor": 0,
  "metadata": {
    "colab": {
      "provenance": [],
      "authorship_tag": "ABX9TyOZs69GiC5Ro/tFbb6tt0Np",
      "include_colab_link": true
    },
    "kernelspec": {
      "name": "python3",
      "display_name": "Python 3"
    },
    "language_info": {
      "name": "python"
    }
  },
  "cells": [
    {
      "cell_type": "markdown",
      "metadata": {
        "id": "view-in-github",
        "colab_type": "text"
      },
      "source": [
        "<a href=\"https://colab.research.google.com/github/ofninfo/uninove.cientedados2/blob/main/Matriz.ipynb\" target=\"_parent\"><img src=\"https://colab.research.google.com/assets/colab-badge.svg\" alt=\"Open In Colab\"/></a>"
      ]
    },
    {
      "cell_type": "code",
      "execution_count": null,
      "metadata": {
        "id": "1P0gBI5xWpC_"
      },
      "outputs": [],
      "source": [
        "import numpy as mat\n",
        "m = mat.zeros((3,2), dtype=mat.int64)\n",
        "def entrada():\n",
        "  m[0][0] = input(\"Entre com os dados da linha 1 coluna 1: \")\n",
        "  m[0][1] = input(\"Entre com os dados da linha 1 coluna 2: \")\n",
        "  m[1][0] = input(\"Entre com os dados da linha 2 coluna 1: \")\n",
        "  m[1][1] = input(\"Entre com os dados da linha 2 coluna 2: \")\n",
        "  m[2][0] = input(\"Entre com os dados da linha 3 coluna 1: \")\n",
        "  m[2][1] = input(\"Entre com os dados da linha 3 coluna 2: \")\n",
        "def mostra():\n",
        "  print(m)\n",
        "entrada()\n",
        "mostra()"
      ]
    },
    {
      "cell_type": "code",
      "source": [
        "import numpy as mat\n",
        "\n",
        "m = mat.zeros((3,2))\n",
        "\n",
        "m[0][0] = input(\"Entre com a altura do jogador 1: \")\n",
        "m[0][1] = input(\"Entre com o peso do jogador 1: \")\n",
        "m[1][0] = input(\"Entre com a altura do jogador 2: \")\n",
        "m[1][1] = input(\"Entre com o peso do jogador 2: \")\n",
        "m[2][0] = input(\"Entre com a altura do jogador 3: \")\n",
        "m[2][1] = input(\"Entre com o peso do jogador 3: \")\n",
        "\n",
        "print(m)"
      ],
      "metadata": {
        "id": "li_vbUZGW8vd"
      },
      "execution_count": null,
      "outputs": []
    },
    {
      "cell_type": "code",
      "source": [
        "import numpy as mat\n",
        "\n",
        "m = mat.zeros((3,2))\n",
        "\n",
        "for i in range(3):\n",
        "  m[i][0] = input(\"Entre com a altura do jogador \" + str(i+1) + \" : \")\n",
        "  m[i][1] = input(\"Entre com o peso do jogador \" + str(i+1) + \" : \")\n",
        "\n",
        "print(m)\n",
        "import numpy as mat\n",
        "\n",
        "m = mat.zeros((3,2))\n",
        "\n",
        "for i in range(3):\n",
        "  for j in range(2):\n",
        "    m[i][j] = input(\"Entre com a informacao da linha \" + str(i) + \" coluna \" + str(j) + \": \")\n",
        "    \n",
        "print(m)"
      ],
      "metadata": {
        "id": "fP238zj-XAVJ"
      },
      "execution_count": null,
      "outputs": []
    },
    {
      "cell_type": "code",
      "source": [
        "import numpy as mat\n",
        "\n",
        "salario = mat.zeros((5,3),mat.float64)\n",
        "\n",
        "for i in range(5):\n",
        "  salario[i][0] = float(input(\"Entre com o primeiro salário do funcionário \" + str(i+1) + \": \" ))\n",
        "  salario[i][1] = float(input(\"Entre com o segundo salário do funcionário \" + str(i+1) + \": \" ))\n",
        "  salario[i][2] = salario[i][0] + salario[i][1]\n",
        "\n",
        "print(salario)"
      ],
      "metadata": {
        "id": "ch_yDx5sXDNc"
      },
      "execution_count": null,
      "outputs": []
    }
  ]
}