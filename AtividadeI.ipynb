{
  "nbformat": 4,
  "nbformat_minor": 0,
  "metadata": {
    "colab": {
      "provenance": [],
      "authorship_tag": "ABX9TyNiDShpL6du2AY4LETDaDZj",
      "include_colab_link": true
    },
    "kernelspec": {
      "name": "python3",
      "display_name": "Python 3"
    },
    "language_info": {
      "name": "python"
    }
  },
  "cells": [
    {
      "cell_type": "markdown",
      "metadata": {
        "id": "view-in-github",
        "colab_type": "text"
      },
      "source": [
        "<a href=\"https://colab.research.google.com/github/ofninfo/uninove.cientedados2/blob/main/AtividadeI.ipynb\" target=\"_parent\"><img src=\"https://colab.research.google.com/assets/colab-badge.svg\" alt=\"Open In Colab\"/></a>"
      ]
    },
    {
      "cell_type": "code",
      "execution_count": 8,
      "metadata": {
        "colab": {
          "base_uri": "https://localhost:8080/"
        },
        "id": "9FEsATPiQmnV",
        "outputId": "6f3acc2c-c2ca-4acf-c2cf-b72b2393efe6"
      },
      "outputs": [
        {
          "output_type": "stream",
          "name": "stdout",
          "text": [
            "********************************************\n",
            "*Programa que apresente o número antecessor*\n",
            "********************************************\n",
            "\n",
            "Entre com o numero: 8\n",
            "\n",
            "\n",
            "O resultado do número antecessor de 8 é  7\n"
          ]
        }
      ],
      "source": [
        "def mensagem():\n",
        "      print (\"********************************************\")\n",
        "      print (\"*Programa que apresente o número antecessor*\")\n",
        "      print (\"********************************************\\n\")\n",
        "\n",
        "def numero_antecessor(n):\n",
        "    r = n - 1\n",
        "    return r\n",
        "\n",
        "mensagem()\n",
        "\n",
        "n1 = int(input(\"Entre com o numero: \"))\n",
        "    \n",
        "print(\"\\n\\nO resultado do número antecessor de \"+ str(n1) +\" é \", numero_antecessor(n1))\n",
        "\n"
      ]
    },
    {
      "cell_type": "code",
      "source": [
        "def mensagem():\n",
        "      print (\"***************************************************************\")\n",
        "      print (\"*Programa que apresente o número Maior ou Menor ou Igual a 100*\")\n",
        "      print (\"***************************************************************\\n\")\n",
        "\n",
        "def numero(n):\n",
        "    r = \"\"\n",
        "    if(n > 100):\n",
        "      r = \"maior a 100\"\n",
        "    elif (n < 100):\n",
        "      r = \"menor a 100\"\n",
        "    else:\n",
        "      r = \"igual a 100\"\n",
        "    return r\n",
        "\n",
        "mensagem()\n",
        "\n",
        "n1 = int(input(\"Entre com o numero: \"))\n",
        "    \n",
        "print(\"\\n\\nO resultado do número \"+ str(n1) +\" é \", numero(n1))\n",
        "\n"
      ],
      "metadata": {
        "colab": {
          "base_uri": "https://localhost:8080/"
        },
        "id": "C-5b41prTeZh",
        "outputId": "d176dc55-ac63-4f81-d0bf-2e1adf5f6503"
      },
      "execution_count": 13,
      "outputs": [
        {
          "output_type": "stream",
          "name": "stdout",
          "text": [
            "***************************************************************\n",
            "*Programa que apresente o número Maior ou Menor ou Igual a 100*\n",
            "***************************************************************\n",
            "\n",
            "Entre com o numero: 50\n",
            "\n",
            "\n",
            "O resultado do número 50 é  menor a 100\n"
          ]
        }
      ]
    },
    {
      "cell_type": "code",
      "source": [
        "def mensagem():\n",
        "      print (\"****************************************\")\n",
        "      print (\"*Programa para multiplicar dois numeros*\")\n",
        "      print (\"****************************************\\n\")\n",
        "\n",
        "def recebe_e_calcula():\n",
        "    n1 = int(input(\"Entre com o primeiro numero..... \"))\n",
        "    n2 = int(input(\"Entre com o segundo numero..... \"))\n",
        "    r = n1 * n2\n",
        "    return r\n",
        "\n",
        "mensagem()\n",
        "\n",
        "resultado = recebe_e_calcula()\n",
        "\n",
        "print(\"O resultado da multiplicação é \", resultado)\n",
        "\n"
      ],
      "metadata": {
        "colab": {
          "base_uri": "https://localhost:8080/"
        },
        "id": "52DK_TCYUHj9",
        "outputId": "cfe0bbaa-2b7e-42a2-bb6e-3beec2c36af0"
      },
      "execution_count": 15,
      "outputs": [
        {
          "output_type": "stream",
          "name": "stdout",
          "text": [
            "****************************************\n",
            "*Programa para multiplicar dois numeros*\n",
            "****************************************\n",
            "\n",
            "Entre com o primeiro numero..... 2\n",
            "Entre com o segundo numero..... 3\n",
            "O resultado da multiplicação é  6\n"
          ]
        }
      ]
    },
    {
      "cell_type": "code",
      "source": [
        "def mensagem():\n",
        "      print (\"****************************************\")\n",
        "      print (\"*Programa para multiplicar dois numeros II*\")\n",
        "      print (\"****************************************\\n\")\n",
        "\n",
        "def recebe_e_calcula():\n",
        "    n1 = int(input(\"Entre com o primeiro numero..... \"))\n",
        "    n2 = int(input(\"Entre com o segundo numero..... \"))\n",
        "    r = n1 * n2\n",
        "    if(n1 > 5):\n",
        "      r = n1 * 3\n",
        "    else:\n",
        "      r = n2 * 4\n",
        "    return r\n",
        "\n",
        "mensagem()\n",
        "\n",
        "resultado = recebe_e_calcula()\n",
        "\n",
        "print(\"O resultado da multiplicação é \", resultado)\n",
        "\n"
      ],
      "metadata": {
        "colab": {
          "base_uri": "https://localhost:8080/"
        },
        "id": "AnEbvJtEX6Ft",
        "outputId": "d71a0cc3-aa7b-4164-c212-47c84649a234"
      },
      "execution_count": 17,
      "outputs": [
        {
          "output_type": "stream",
          "name": "stdout",
          "text": [
            "****************************************\n",
            "*Programa para multiplicar dois numeros II*\n",
            "****************************************\n",
            "\n",
            "Entre com o primeiro numero..... 3\n",
            "Entre com o segundo numero..... 3\n",
            "O resultado da multiplicação é  12\n"
          ]
        }
      ]
    },
    {
      "cell_type": "code",
      "source": [
        "def mensagem():\n",
        "      print (\"**************************************************\")\n",
        "      print (\"*Programa para apresentar a média entre 3 números*\")\n",
        "      print (\"**************************************************\\n\")\n",
        "\n",
        "def recebe_e_calcula():\n",
        "    n1 = int(input(\"Entre com o primeiro número..... \"))\n",
        "    n2 = int(input(\"Entre com o segundo número..... \"))\n",
        "    n3 = int(input(\"Entre com o terceiro número..... \"))\n",
        "    r = (n1 + n2 + n3) / 3\n",
        "    return r\n",
        "\n",
        "mensagem()\n",
        "\n",
        "media = recebe_e_calcula()\n",
        "\n",
        "print(\"O resultado da média é \", round(media,2))\n",
        "\n"
      ],
      "metadata": {
        "colab": {
          "base_uri": "https://localhost:8080/"
        },
        "id": "HM1KqHkFZr6_",
        "outputId": "f310416b-f288-4872-dac5-bc07558a6059"
      },
      "execution_count": 23,
      "outputs": [
        {
          "output_type": "stream",
          "name": "stdout",
          "text": [
            "**************************************************\n",
            "*Programa para apresentar a média entre 3 números*\n",
            "**************************************************\n",
            "\n",
            "Entre com o primeiro número..... 3\n",
            "Entre com o segundo número..... 2\n",
            "Entre com o terceiro número..... 3\n",
            "O resultado da média é  2.67\n"
          ]
        }
      ]
    }
  ]
}