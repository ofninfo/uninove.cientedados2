{
  "nbformat": 4,
  "nbformat_minor": 0,
  "metadata": {
    "colab": {
      "provenance": [],
      "authorship_tag": "ABX9TyPSkP66pEiczRKRPJ+jPOug",
      "include_colab_link": true
    },
    "kernelspec": {
      "name": "python3",
      "display_name": "Python 3"
    },
    "language_info": {
      "name": "python"
    }
  },
  "cells": [
    {
      "cell_type": "markdown",
      "metadata": {
        "id": "view-in-github",
        "colab_type": "text"
      },
      "source": [
        "<a href=\"https://colab.research.google.com/github/ofninfo/uninove.cientedados2/blob/main/AtividadeI.ipynb\" target=\"_parent\"><img src=\"https://colab.research.google.com/assets/colab-badge.svg\" alt=\"Open In Colab\"/></a>"
      ]
    },
    {
      "cell_type": "code",
      "execution_count": 8,
      "metadata": {
        "colab": {
          "base_uri": "https://localhost:8080/"
        },
        "id": "9FEsATPiQmnV",
        "outputId": "6f3acc2c-c2ca-4acf-c2cf-b72b2393efe6"
      },
      "outputs": [
        {
          "output_type": "stream",
          "name": "stdout",
          "text": [
            "********************************************\n",
            "*Programa que apresente o número antecessor*\n",
            "********************************************\n",
            "\n",
            "Entre com o numero: 8\n",
            "\n",
            "\n",
            "O resultado do número antecessor de 8 é  7\n"
          ]
        }
      ],
      "source": [
        "def mensagem():\n",
        "      print (\"********************************************\")\n",
        "      print (\"*Programa que apresente o número antecessor*\")\n",
        "      print (\"********************************************\\n\")\n",
        "\n",
        "def numero_antecessor(n):\n",
        "    r = n - 1\n",
        "    return r\n",
        "\n",
        "mensagem()\n",
        "\n",
        "n1 = int(input(\"Entre com o numero: \"))\n",
        "    \n",
        "print(\"\\n\\nO resultado do número antecessor de \"+ str(n1) +\" é \", numero_antecessor(n1))\n",
        "\n"
      ]
    }
  ]
}