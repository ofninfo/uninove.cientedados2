{
  "nbformat": 4,
  "nbformat_minor": 0,
  "metadata": {
    "colab": {
      "provenance": [],
      "name": "WebApi1.ipynb",
      "authorship_tag": "ABX9TyPH+YOH5F3IIT0BjP7lU7a7",
      "include_colab_link": true
    },
    "kernelspec": {
      "name": "python3",
      "display_name": "Python 3"
    },
    "language_info": {
      "name": "python"
    }
  },
  "cells": [
    {
      "cell_type": "markdown",
      "metadata": {
        "id": "view-in-github",
        "colab_type": "text"
      },
      "source": [
        "<a href=\"https://colab.research.google.com/github/ofninfo/uninove.cientedados2/blob/main/WebApi1.ipynb\" target=\"_parent\"><img src=\"https://colab.research.google.com/assets/colab-badge.svg\" alt=\"Open In Colab\"/></a>"
      ]
    },
    {
      "cell_type": "code",
      "source": [
        "import requests\n",
        "import json\n",
        "\n",
        "def mostra(cep_busca):\n",
        "    requisicao = requests.get(\"https://brasilapi.com.br/api/cep/v1/{\"+cep_busca+\"}\")\n",
        "    retorno = json.loads(requisicao.text)\n",
        "    print(\"CEP: \" + retorno[\"cep\"])\n",
        "    print(\"Endereço: \" + retorno[\"street\"])\n",
        "    print(\"Bairro: \" + retorno[\"neighborhood\"])\n",
        "    print(\"Cidade: \" + retorno[\"city\"])\n",
        "    print(\"Estado: \" + retorno[\"state\"])\n",
        "\n",
        "def recebe():\n",
        "    cep = input(\"informe o cep: \")\n",
        "    mostra(cep)\n",
        "\n",
        "recebe()"
      ],
      "metadata": {
        "id": "oO-F3zxhWxX9",
        "outputId": "c6845cbd-03d3-4987-a1e3-93b5d0af7a6d",
        "colab": {
          "base_uri": "https://localhost:8080/"
        }
      },
      "execution_count": 1,
      "outputs": [
        {
          "output_type": "stream",
          "name": "stdout",
          "text": [
            "informe o cep: 13221440\n",
            "CEP: 13221440\n",
            "Endereço: Rua Irerê\n",
            "Bairro: Jardim América\n",
            "Cidade: Várzea Paulista\n",
            "Estado: SP\n"
          ]
        }
      ]
    },
    {
      "cell_type": "code",
      "execution_count": null,
      "metadata": {
        "colab": {
          "base_uri": "https://localhost:8080/"
        },
        "id": "30W5Cth5QbS2",
        "outputId": "768cb004-102c-45ab-b761-286a15cb8ec5"
      },
      "outputs": [
        {
          "output_type": "stream",
          "name": "stdout",
          "text": [
            "SISTEMA DE CONSULTA DE EMPRESA POR CNPJ\n",
            "\n",
            "\n",
            "informe o CNPJ: 31840868000123\n",
            "\n",
            "\n",
            "Resultado\n",
            " - Razão Social.: I J DA SILVA CASA DE RACAO\n",
            " - Nome Fantasia: CASA DE RACAO SILVA\n"
          ]
        }
      ],
      "source": [
        "import requests\n",
        "import json\n",
        "\n",
        "def mostra(cnpj_busca):\n",
        "    requisicao = requests.get(\"https://brasilapi.com.br/api/cnpj/v1/{\"+cnpj_busca+\"}\")\n",
        "    retorno = json.loads(requisicao.text)\n",
        "    print(\"\\n\")\n",
        "    print(\"Resultado\")\n",
        "    print(\" - Razão Social.: \" + retorno[\"razao_social\"])\n",
        "    print(\" - Nome Fantasia: \" + retorno[\"nome_fantasia\"])\n",
        "\n",
        "def heading():\n",
        "    print(\"SISTEMA DE CONSULTA DE EMPRESA POR CNPJ\\n\\n\")\n",
        " \n",
        "def recebe():\n",
        "    cnpj = input(\"informe o CNPJ: \")\n",
        "    mostra(cnpj)\n",
        "\n",
        "heading()\n",
        "recebe()\n"
      ]
    },
    {
      "cell_type": "code",
      "source": [
        "import requests\n",
        "import json\n",
        "\n",
        "def busca(cnpj_busca):\n",
        "    requisicao = requests.get(\"https://brasilapi.com.br/api/cnpj/v1/{\"+cnpj_busca+\"}\")\n",
        "    return json.loads(requisicao.text)\n",
        "\n",
        "def mostra(ret):    \n",
        "    print (ret[\"cnpj\"])\n",
        "    print (ret[\"razao_social\"])\n",
        "    print (ret[\"nome_fantasia\"])\n",
        "\n",
        "def recebe():    \n",
        "    return input(\"informe o CNPJ que deseja buscar: \")\n",
        "\n",
        "cnpj = recebe()\n",
        "retorno = busca(cnpj)\n",
        "mostra(retorno)"
      ],
      "metadata": {
        "id": "h6tpTDZZWkr8",
        "outputId": "8264cc9b-6547-4f3b-9483-0358529e9e44",
        "colab": {
          "base_uri": "https://localhost:8080/"
        }
      },
      "execution_count": 2,
      "outputs": [
        {
          "output_type": "stream",
          "name": "stdout",
          "text": [
            "informe o CNPJ que deseja buscar: 31840868000123\n",
            "31840868000123\n",
            "I J DA SILVA CASA DE RACAO\n",
            "CASA DE RACAO SILVA\n"
          ]
        }
      ]
    }
  ]
}