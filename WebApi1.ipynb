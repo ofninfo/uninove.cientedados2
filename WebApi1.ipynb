{
  "nbformat": 4,
  "nbformat_minor": 0,
  "metadata": {
    "colab": {
      "provenance": [],
      "name": "WebApi1.ipynb",
      "authorship_tag": "ABX9TyNIGQC57pwsYlC6sTBvrMG9",
      "include_colab_link": true
    },
    "kernelspec": {
      "name": "python3",
      "display_name": "Python 3"
    },
    "language_info": {
      "name": "python"
    }
  },
  "cells": [
    {
      "cell_type": "markdown",
      "metadata": {
        "id": "view-in-github",
        "colab_type": "text"
      },
      "source": [
        "<a href=\"https://colab.research.google.com/github/ofninfo/uninove.cientedados2/blob/main/WebApi1.ipynb\" target=\"_parent\"><img src=\"https://colab.research.google.com/assets/colab-badge.svg\" alt=\"Open In Colab\"/></a>"
      ]
    },
    {
      "cell_type": "code",
      "execution_count": null,
      "metadata": {
        "colab": {
          "base_uri": "https://localhost:8080/"
        },
        "id": "30W5Cth5QbS2",
        "outputId": "e687ef6e-3e46-4daf-9d8a-8a2c7694696c"
      },
      "outputs": [
        {
          "output_type": "stream",
          "name": "stdout",
          "text": [
            "informe o CNPJ: 31840868000123\n",
            "Razão Social: I J DA SILVA CASA DE RACAO\n",
            "Nome Fantasia: CASA DE RACAO SILVA\n"
          ]
        }
      ],
      "source": [
        "import requests\n",
        "import json\n",
        "\n",
        "def mostra(cnpj_busca):\n",
        "    requisicao = requests.get(\"https://brasilapi.com.br/api/cnpj/v1/{\"+cnpj_busca+\"}\")\n",
        "    retorno = json.loads(requisicao.text)\n",
        "    print(\"Resultado\")\n",
        "    print(\" - Razão Social..: \" + retorno[\"razao_social\"])\n",
        "    print(\" - Nome Fantasia: \" + retorno[\"nome_fantasia\"])\n",
        "\n",
        "def heading():\n",
        "    print(\"SISTEMA DE CONSULTA DE EMPRESA POR CNPJ\\n\\n\")\n",
        " \n",
        "def recebe():\n",
        "    cnpj = input(\"informe o CNPJ: \")\n",
        "    mostra(cnpj)\n",
        "\n",
        "recebe()\n"
      ]
    }
  ]
}