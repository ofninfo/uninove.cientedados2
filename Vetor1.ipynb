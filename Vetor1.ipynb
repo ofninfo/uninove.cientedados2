{
  "nbformat": 4,
  "nbformat_minor": 0,
  "metadata": {
    "colab": {
      "provenance": [],
      "authorship_tag": "ABX9TyNEZ293Keqk+Es2ArJoHM2w",
      "include_colab_link": true
    },
    "kernelspec": {
      "name": "python3",
      "display_name": "Python 3"
    },
    "language_info": {
      "name": "python"
    }
  },
  "cells": [
    {
      "cell_type": "markdown",
      "metadata": {
        "id": "view-in-github",
        "colab_type": "text"
      },
      "source": [
        "<a href=\"https://colab.research.google.com/github/ofninfo/uninove.cientedados2/blob/main/Vetor1.ipynb\" target=\"_parent\"><img src=\"https://colab.research.google.com/assets/colab-badge.svg\" alt=\"Open In Colab\"/></a>"
      ]
    },
    {
      "cell_type": "code",
      "execution_count": 2,
      "metadata": {
        "colab": {
          "base_uri": "https://localhost:8080/"
        },
        "id": "-UhsfYu9Zkbl",
        "outputId": "1ee60bc7-567a-48d7-e010-f0e49446fc41"
      },
      "outputs": [
        {
          "output_type": "stream",
          "name": "stdout",
          "text": [
            "[ 8 34 67 98]\n",
            "[123 456  67  98]\n"
          ]
        }
      ],
      "source": [
        "import numpy as np\n",
        "\n",
        "vetor = np.array([8,34,67,98])\n",
        "print(vetor)\n",
        "vetor[0] = 123\n",
        "vetor[1] = 456\n",
        "\n",
        "print(vetor)"
      ]
    },
    {
      "cell_type": "code",
      "source": [
        "def entrada():\n",
        "  a1 = input(\"Entre com a altura do Jogador 1:\")\n",
        "  a2 = input(\"Entre com a altura do Jogador 2:\")\n",
        "  a3 = input(\"Entre com a altura do Jogador 3:\")\n",
        "  a4 = input(\"Entre com a altura do Jogador 4:\")\n",
        "  a5 = input(\"Entre com a altura do Jogador 5:\")\n",
        "\n",
        "\n",
        "  entrada()"
      ],
      "metadata": {
        "id": "FtnEh7aaaXTi"
      },
      "execution_count": 4,
      "outputs": []
    },
    {
      "cell_type": "code",
      "source": [
        "import numpy as vet\n",
        "\n",
        "a = vet.zeros(5)\n",
        "\n",
        "def entrada():\n",
        "  for i in range(5):\n",
        "    a[i] = input(\"Entre com a altura do Jogador:\")\n",
        "  print(a)\n",
        "  \n",
        "entrada()"
      ],
      "metadata": {
        "colab": {
          "base_uri": "https://localhost:8080/"
        },
        "id": "qbopEzuva_tZ",
        "outputId": "2f84c39d-1866-4d3d-9578-d3abf01c8456"
      },
      "execution_count": 14,
      "outputs": [
        {
          "output_type": "stream",
          "name": "stdout",
          "text": [
            "Entre com a altura do Jogador:2\n",
            "Entre com a altura do Jogador:5\n",
            "Entre com a altura do Jogador:6\n",
            "Entre com a altura do Jogador:8\n",
            "Entre com a altura do Jogador:4\n",
            "[2. 5. 6. 8. 4.]\n"
          ]
        }
      ]
    },
    {
      "cell_type": "code",
      "source": [
        "import numpy as vet\n",
        "\n",
        "a = vet.zeros(5)\n",
        "\n",
        "def entrada():\n",
        "  for i in range(5):\n",
        "    a[i] = input(\"Entre com a altura do Jogador \"+ str(i+1) +\": \")\n",
        "  \n",
        "entrada()"
      ],
      "metadata": {
        "colab": {
          "base_uri": "https://localhost:8080/"
        },
        "id": "7TvET8f9gTux",
        "outputId": "ae34f48a-f125-4d2d-f56e-569d2bc4f6ff"
      },
      "execution_count": 15,
      "outputs": [
        {
          "name": "stdout",
          "output_type": "stream",
          "text": [
            "Entre com a altura do Jogador 1: 2\n",
            "Entre com a altura do Jogador 2: 3\n",
            "Entre com a altura do Jogador 3: 5\n",
            "Entre com a altura do Jogador 4: 7\n",
            "Entre com a altura do Jogador 5: 5\n"
          ]
        }
      ]
    },
    {
      "cell_type": "code",
      "source": [
        "import numpy as vet\n",
        "\n",
        "a = vet.zeros(5)\n",
        "\n",
        "def entrada():\n",
        "  for i in range(5):\n",
        "    a[i] = input(\"Entre com a altura do Jogador \"+ str(i+1) +\": \")\n",
        "  \n",
        "def media_idade():\n",
        "  soma_idade = 0\n",
        "  for i in range(5):\n",
        "    soma_idade+=a[i]\n",
        "  print(soma_idade)\n",
        "\n",
        "entrada()\n",
        "media_idade()\n"
      ],
      "metadata": {
        "colab": {
          "base_uri": "https://localhost:8080/"
        },
        "id": "RckeDpSbgiYk",
        "outputId": "ee07f030-7a9e-4a31-e207-00471a1b8c7c"
      },
      "execution_count": 18,
      "outputs": [
        {
          "output_type": "stream",
          "name": "stdout",
          "text": [
            "Entre com a altura do Jogador 1: 1.8\n",
            "Entre com a altura do Jogador 2: 1.9\n",
            "Entre com a altura do Jogador 3: 1.75\n",
            "Entre com a altura do Jogador 4: 1.95\n",
            "Entre com a altura do Jogador 5: 2\n",
            "9.4\n"
          ]
        }
      ]
    },
    {
      "cell_type": "code",
      "source": [
        "import numpy as vet\n",
        "\n",
        "notas = vet.zeros(10)\n",
        "\n",
        "def entrada():\n",
        "  for i in range(7):\n",
        "    notas[i] = input(\"Nota do Aluno \"+ str(i+1) +\": \")\n",
        "\n",
        "def media_nota():\n",
        "  soma_nota=0\n",
        "  aluno_acima_media=0\n",
        "\n",
        "  for i in range(7):\n",
        "    soma_nota+=notas[i]\n",
        "  \n",
        "  media = soma_nota/7\n",
        "  print(\"A média de notas é: \",round(media,2))\n",
        "\n",
        "  for i in range(5):\n",
        "    if (notas[i] > media):\n",
        "      aluno_acima_media+=1\n",
        "  print(\"Quantidade de alunos média de notas é: \",aluno_acima_media)\n",
        "\n",
        "entrada()\n",
        "media_nota()"
      ],
      "metadata": {
        "colab": {
          "base_uri": "https://localhost:8080/"
        },
        "id": "gk50VrT9mw3d",
        "outputId": "4017139c-1e1c-440d-be1c-534d8ea94cab"
      },
      "execution_count": 25,
      "outputs": [
        {
          "output_type": "stream",
          "name": "stdout",
          "text": [
            "Nota do Aluno 1: 5\n",
            "Nota do Aluno 2: 5\n",
            "Nota do Aluno 3: 5\n",
            "Nota do Aluno 4: 6\n",
            "Nota do Aluno 5: 4\n",
            "Nota do Aluno 6: 3\n",
            "Nota do Aluno 7: 5\n",
            "A média de notas é:  4.71\n",
            "Quantidade de alunos média de notas é:  4\n"
          ]
        }
      ]
    }
  ]
}